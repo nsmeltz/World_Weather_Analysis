{
 "cells": [
  {
   "cell_type": "code",
   "execution_count": 24,
   "id": "ee61e4cb",
   "metadata": {},
   "outputs": [],
   "source": [
    "# Import the random module.\n",
    "import random"
   ]
  },
  {
   "cell_type": "code",
   "execution_count": 25,
   "id": "799e8a10",
   "metadata": {},
   "outputs": [
    {
     "data": {
      "text/plain": [
       "0.9033534884430668"
      ]
     },
     "execution_count": 25,
     "metadata": {},
     "output_type": "execute_result"
    }
   ],
   "source": [
    "random.random()"
   ]
  },
  {
   "cell_type": "code",
   "execution_count": 26,
   "id": "b8370db9",
   "metadata": {},
   "outputs": [
    {
     "data": {
      "text/plain": [
       "-32"
      ]
     },
     "execution_count": 26,
     "metadata": {},
     "output_type": "execute_result"
    }
   ],
   "source": [
    "random.randint(-90,90)"
   ]
  },
  {
   "cell_type": "code",
   "execution_count": 27,
   "id": "52d12495",
   "metadata": {},
   "outputs": [
    {
     "data": {
      "text/plain": [
       "[55.60331804459534,\n",
       " -34.4463129390632,\n",
       " 8.190433373523359,\n",
       " -66.55421816344487,\n",
       " 69.01556945044842,\n",
       " -41.280962436242355,\n",
       " 69.30561578217306,\n",
       " 3.151718380820279,\n",
       " 24.24509607567696,\n",
       " 10.057309142012025]"
      ]
     },
     "execution_count": 27,
     "metadata": {},
     "output_type": "execute_result"
    }
   ],
   "source": [
    "x = 1\n",
    "latitudes = []\n",
    "while x < 11:\n",
    "    random_lat = random.randint(-90, 89) + random.random()\n",
    "    latitudes.append(random_lat)\n",
    "    x += 1\n",
    "latitudes"
   ]
  },
  {
   "cell_type": "code",
   "execution_count": 28,
   "id": "8d6c8154",
   "metadata": {},
   "outputs": [
    {
     "data": {
      "text/plain": [
       "-72"
      ]
     },
     "execution_count": 28,
     "metadata": {},
     "output_type": "execute_result"
    }
   ],
   "source": [
    "random.randrange(-90, 90, step=1)"
   ]
  },
  {
   "cell_type": "code",
   "execution_count": 29,
   "id": "40ae4b10",
   "metadata": {},
   "outputs": [
    {
     "data": {
      "text/plain": [
       "-24.89623062153545"
      ]
     },
     "execution_count": 29,
     "metadata": {},
     "output_type": "execute_result"
    }
   ],
   "source": [
    "random.uniform(-90, 90)"
   ]
  },
  {
   "cell_type": "code",
   "execution_count": 30,
   "id": "cd5b6a08",
   "metadata": {},
   "outputs": [],
   "source": [
    "# Import the NumPy module.\n",
    "import numpy as np"
   ]
  },
  {
   "cell_type": "code",
   "execution_count": 32,
   "id": "b64cfcf6",
   "metadata": {},
   "outputs": [
    {
     "data": {
      "text/plain": [
       "73.08168188984936"
      ]
     },
     "execution_count": 32,
     "metadata": {},
     "output_type": "execute_result"
    }
   ],
   "source": [
    "np.random.uniform(-90, 90)"
   ]
  },
  {
   "cell_type": "code",
   "execution_count": 33,
   "id": "7db1785c",
   "metadata": {},
   "outputs": [
    {
     "data": {
      "text/plain": [
       "array([-25.66684267, -46.67264996,  38.47017452,  66.74322568,\n",
       "        73.9361278 , -62.76593493, -48.46617297,  14.27697156,\n",
       "        66.01384618,  47.93425284,   4.37162306,  22.52235953,\n",
       "        -3.26627795,  88.87968527,  61.34757063, -16.00519486,\n",
       "        85.01745628, -82.95062857, -65.56449393, -59.77298456,\n",
       "       -46.84073778,  21.92343898,  17.04371729,  69.16267402,\n",
       "         7.59851402, -34.56265724,  56.33001311,  57.00843481,\n",
       "        79.66243387, -48.39968126,  56.29799357,  20.26137492,\n",
       "       -62.35666886, -53.87635985,  75.73468539, -44.3602678 ,\n",
       "        21.55466089,  16.77469161,  53.75805426,  48.15728918,\n",
       "        40.53087068, -25.80381662, -29.78484852, -79.33438874,\n",
       "        73.02850726,  70.64997836, -58.54779286,  29.1768512 ,\n",
       "       -81.31515813,  67.30099161])"
      ]
     },
     "execution_count": 33,
     "metadata": {},
     "output_type": "execute_result"
    }
   ],
   "source": [
    "np.random.uniform(-90.000, 90.000, size=50)"
   ]
  },
  {
   "cell_type": "code",
   "execution_count": 37,
   "id": "3767e696",
   "metadata": {},
   "outputs": [],
   "source": [
    "# Import timeit.\n",
    "import timeit"
   ]
  },
  {
   "cell_type": "code",
   "execution_count": 39,
   "id": "eb81bc1b",
   "metadata": {},
   "outputs": [
    {
     "name": "stdout",
     "output_type": "stream",
     "text": [
      "12.5 µs ± 28.6 ns per loop (mean ± std. dev. of 7 runs, 100000 loops each)\n"
     ]
    }
   ],
   "source": [
    "%timeit np.random.uniform(-90.000, 90.000, size=1500)"
   ]
  },
  {
   "cell_type": "code",
   "execution_count": 40,
   "id": "d5d5de6f",
   "metadata": {},
   "outputs": [
    {
     "name": "stdout",
     "output_type": "stream",
     "text": [
      "1.29 ms ± 1.7 µs per loop (mean ± std. dev. of 7 runs, 1000 loops each)\n"
     ]
    }
   ],
   "source": [
    "def latitudes(size):\n",
    "    latitudes = []\n",
    "    x = 0\n",
    "    while x < (size):\n",
    "        random_lat = random.randint(-90, 90) + random.random()\n",
    "        latitudes.append(random_lat)\n",
    "        x += 1\n",
    "    return latitudes\n",
    "# Call the function with 1500.\n",
    "%timeit latitudes(1500)"
   ]
  },
  {
   "cell_type": "code",
   "execution_count": null,
   "id": "2085498b",
   "metadata": {},
   "outputs": [],
   "source": []
  }
 ],
 "metadata": {
  "kernelspec": {
   "display_name": "PythonData",
   "language": "python",
   "name": "pythondata"
  },
  "language_info": {
   "codemirror_mode": {
    "name": "ipython",
    "version": 3
   },
   "file_extension": ".py",
   "mimetype": "text/x-python",
   "name": "python",
   "nbconvert_exporter": "python",
   "pygments_lexer": "ipython3",
   "version": "3.9.7"
  }
 },
 "nbformat": 4,
 "nbformat_minor": 5
}
